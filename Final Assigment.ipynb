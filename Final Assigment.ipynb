{
 "cells": [
  {
   "cell_type": "markdown",
   "metadata": {},
   "source": [
    "# Final Assigment by Edgar Macias"
   ]
  },
  {
   "cell_type": "markdown",
   "metadata": {},
   "source": [
    "#### This is the last assigment for the course and i will be putting in practice all that i learn. Peers, please grade me well"
   ]
  },
  {
   "cell_type": "markdown",
   "metadata": {},
   "source": [
    "__Objectives__\n",
    "\n",
    "* Know some of the most popular languages for data science\n",
    "* Know some of the enviroments for data science\n",
    "* learn some of the data science tools\n"
   ]
  },
  {
   "cell_type": "markdown",
   "metadata": {},
   "source": [
    "#### Here are some of the most popular languages for the data science\n",
    "\n",
    "1. R.\n",
    "2. Python.\n",
    "3. SQL.\n",
    "4. Java.\n",
    "5. Scala.\n",
    "6. Julia.\n",
    "7. MATLAB."
   ]
  },
  {
   "cell_type": "markdown",
   "metadata": {},
   "source": [
    "#### Some of the most popular libraries for data science are the following:\n",
    "\n",
    "1. Numpy\n",
    "2. Pandas \n",
    "3. Matplotlib\n",
    "4. Tensorflow\n",
    "5. Scikit-learn"
   ]
  },
  {
   "cell_type": "markdown",
   "metadata": {},
   "source": [
    "| Data science Tools |\n",
    "----------------------\n",
    "| Ananconda |\n",
    "| Scikit lear|\n",
    "| Keras | \n",
    "| Spark |"
   ]
  },
  {
   "cell_type": "markdown",
   "metadata": {},
   "source": [
    "### For the following example I ll do the following math operation (3*4)+5 with a code cell below :"
   ]
  },
  {
   "cell_type": "code",
   "execution_count": 7,
   "metadata": {},
   "outputs": [
    {
     "name": "stdout",
     "output_type": "stream",
     "text": [
      "This is a simple aritmetical operation:\n"
     ]
    },
    {
     "data": {
      "text/plain": [
       "17"
      ]
     },
     "execution_count": 7,
     "metadata": {},
     "output_type": "execute_result"
    }
   ],
   "source": [
    "print(\"This is a simple aritmetical operation:\")\n",
    "(3*4)+5"
   ]
  },
  {
   "cell_type": "code",
   "execution_count": 8,
   "metadata": {},
   "outputs": [
    {
     "name": "stdout",
     "output_type": "stream",
     "text": [
      "For the next step i ll convert 200 minutes in hours\n",
      "The total is 3.3333333333333335\n"
     ]
    }
   ],
   "source": [
    "print(\"For the next step i ll convert 200 minutes in hours\")\n",
    "y= (200/60)\n",
    "print (f'The total is {y}')"
   ]
  },
  {
   "cell_type": "markdown",
   "metadata": {},
   "source": [
    "## Autor\n",
    "Edgar Macias"
   ]
  },
  {
   "cell_type": "code",
   "execution_count": null,
   "metadata": {},
   "outputs": [],
   "source": []
  }
 ],
 "metadata": {
  "kernelspec": {
   "display_name": "Python 3.11.5 ('base': conda)",
   "language": "python",
   "name": "python3"
  },
  "language_info": {
   "codemirror_mode": {
    "name": "ipython",
    "version": 3
   },
   "file_extension": ".py",
   "mimetype": "text/x-python",
   "name": "python",
   "nbconvert_exporter": "python",
   "pygments_lexer": "ipython3",
   "version": "3.11.5"
  },
  "orig_nbformat": 4,
  "vscode": {
   "interpreter": {
    "hash": "61d91b177731760399e564767440fe50bab8df380430f60a4bd09e90c72f4917"
   }
  }
 },
 "nbformat": 4,
 "nbformat_minor": 2
}
